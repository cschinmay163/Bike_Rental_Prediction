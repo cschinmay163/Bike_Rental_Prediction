{
  "cells": [
    {
      "cell_type": "markdown",
      "metadata": {
        "id": "l0pHvNYv2rZ5"
      },
      "source": [
        "Setting Up the Environment"
      ]
    },
    {
      "cell_type": "code",
      "execution_count": 30,
      "metadata": {
        "colab": {
          "base_uri": "https://localhost:8080/"
        },
        "id": "8k0nj-opv2RF",
        "outputId": "2723bbc0-5522-4359-919a-5f898dc0665d"
      },
      "outputs": [
        {
          "output_type": "stream",
          "name": "stdout",
          "text": [
            "Libraries imported successfully!\n"
          ]
        }
      ],
      "source": [
        "# Importing basic libraries pandas, numpy, sklearn or Scikit\n",
        "# Pandas for working with data sets. It has functions for analyzing, cleaning, exploring, and manipulating data.\n",
        "# NumPy is the fundamental package for scientific computing in Python\n",
        "#Scikit learn- Data modelling library for ML models\n",
        "\n",
        "\n",
        "import pandas as pd\n",
        "import numpy as np\n",
        "from sklearn.model_selection import train_test_split\n",
        "from sklearn.metrics import mean_squared_error\n",
        "from sklearn.preprocessing import MinMaxScaler\n",
        "\n",
        "# Importing machine learning models\n",
        "from sklearn.linear_model import LinearRegression\n",
        "from sklearn.tree import DecisionTreeRegressor\n",
        "from sklearn.neural_network import MLPRegressor\n",
        "\n",
        "# For visualization\n",
        "import matplotlib.pyplot as plt\n",
        "\n",
        "print(\"Libraries imported successfully!\")"
      ]
    },
    {
      "cell_type": "markdown",
      "metadata": {
        "id": "t_P6ZYhK22Hh"
      },
      "source": [
        "Loading the Dataset"
      ]
    },
    {
      "cell_type": "code",
      "execution_count": 31,
      "metadata": {
        "colab": {
          "base_uri": "https://localhost:8080/",
          "height": 206
        },
        "id": "Q8N8aF6kxhAs",
        "outputId": "0cc0abaa-5e73-42c6-fd15-0e9733aecf8e"
      },
      "outputs": [
        {
          "output_type": "execute_result",
          "data": {
            "text/plain": [
              "             timestamp  cnt   t1   t2    hum  wind_speed  weather_code  \\\n",
              "0  2015-01-04 00:00:00  182  3.0  2.0   93.0         6.0           3.0   \n",
              "1  2015-01-04 01:00:00  138  3.0  2.5   93.0         5.0           1.0   \n",
              "2  2015-01-04 02:00:00  134  2.5  2.5   96.5         0.0           1.0   \n",
              "3  2015-01-04 03:00:00   72  2.0  2.0  100.0         0.0           1.0   \n",
              "4  2015-01-04 04:00:00   47  2.0  0.0   93.0         6.5           1.0   \n",
              "\n",
              "   is_holiday  is_weekend  season  \n",
              "0         0.0         1.0     3.0  \n",
              "1         0.0         1.0     3.0  \n",
              "2         0.0         1.0     3.0  \n",
              "3         0.0         1.0     3.0  \n",
              "4         0.0         1.0     3.0  "
            ],
            "text/html": [
              "\n",
              "  <div id=\"df-aad87fb0-34f0-4cb9-86a7-1055d1910f77\" class=\"colab-df-container\">\n",
              "    <div>\n",
              "<style scoped>\n",
              "    .dataframe tbody tr th:only-of-type {\n",
              "        vertical-align: middle;\n",
              "    }\n",
              "\n",
              "    .dataframe tbody tr th {\n",
              "        vertical-align: top;\n",
              "    }\n",
              "\n",
              "    .dataframe thead th {\n",
              "        text-align: right;\n",
              "    }\n",
              "</style>\n",
              "<table border=\"1\" class=\"dataframe\">\n",
              "  <thead>\n",
              "    <tr style=\"text-align: right;\">\n",
              "      <th></th>\n",
              "      <th>timestamp</th>\n",
              "      <th>cnt</th>\n",
              "      <th>t1</th>\n",
              "      <th>t2</th>\n",
              "      <th>hum</th>\n",
              "      <th>wind_speed</th>\n",
              "      <th>weather_code</th>\n",
              "      <th>is_holiday</th>\n",
              "      <th>is_weekend</th>\n",
              "      <th>season</th>\n",
              "    </tr>\n",
              "  </thead>\n",
              "  <tbody>\n",
              "    <tr>\n",
              "      <th>0</th>\n",
              "      <td>2015-01-04 00:00:00</td>\n",
              "      <td>182</td>\n",
              "      <td>3.0</td>\n",
              "      <td>2.0</td>\n",
              "      <td>93.0</td>\n",
              "      <td>6.0</td>\n",
              "      <td>3.0</td>\n",
              "      <td>0.0</td>\n",
              "      <td>1.0</td>\n",
              "      <td>3.0</td>\n",
              "    </tr>\n",
              "    <tr>\n",
              "      <th>1</th>\n",
              "      <td>2015-01-04 01:00:00</td>\n",
              "      <td>138</td>\n",
              "      <td>3.0</td>\n",
              "      <td>2.5</td>\n",
              "      <td>93.0</td>\n",
              "      <td>5.0</td>\n",
              "      <td>1.0</td>\n",
              "      <td>0.0</td>\n",
              "      <td>1.0</td>\n",
              "      <td>3.0</td>\n",
              "    </tr>\n",
              "    <tr>\n",
              "      <th>2</th>\n",
              "      <td>2015-01-04 02:00:00</td>\n",
              "      <td>134</td>\n",
              "      <td>2.5</td>\n",
              "      <td>2.5</td>\n",
              "      <td>96.5</td>\n",
              "      <td>0.0</td>\n",
              "      <td>1.0</td>\n",
              "      <td>0.0</td>\n",
              "      <td>1.0</td>\n",
              "      <td>3.0</td>\n",
              "    </tr>\n",
              "    <tr>\n",
              "      <th>3</th>\n",
              "      <td>2015-01-04 03:00:00</td>\n",
              "      <td>72</td>\n",
              "      <td>2.0</td>\n",
              "      <td>2.0</td>\n",
              "      <td>100.0</td>\n",
              "      <td>0.0</td>\n",
              "      <td>1.0</td>\n",
              "      <td>0.0</td>\n",
              "      <td>1.0</td>\n",
              "      <td>3.0</td>\n",
              "    </tr>\n",
              "    <tr>\n",
              "      <th>4</th>\n",
              "      <td>2015-01-04 04:00:00</td>\n",
              "      <td>47</td>\n",
              "      <td>2.0</td>\n",
              "      <td>0.0</td>\n",
              "      <td>93.0</td>\n",
              "      <td>6.5</td>\n",
              "      <td>1.0</td>\n",
              "      <td>0.0</td>\n",
              "      <td>1.0</td>\n",
              "      <td>3.0</td>\n",
              "    </tr>\n",
              "  </tbody>\n",
              "</table>\n",
              "</div>\n",
              "    <div class=\"colab-df-buttons\">\n",
              "\n",
              "  <div class=\"colab-df-container\">\n",
              "    <button class=\"colab-df-convert\" onclick=\"convertToInteractive('df-aad87fb0-34f0-4cb9-86a7-1055d1910f77')\"\n",
              "            title=\"Convert this dataframe to an interactive table.\"\n",
              "            style=\"display:none;\">\n",
              "\n",
              "  <svg xmlns=\"http://www.w3.org/2000/svg\" height=\"24px\" viewBox=\"0 -960 960 960\">\n",
              "    <path d=\"M120-120v-720h720v720H120Zm60-500h600v-160H180v160Zm220 220h160v-160H400v160Zm0 220h160v-160H400v160ZM180-400h160v-160H180v160Zm440 0h160v-160H620v160ZM180-180h160v-160H180v160Zm440 0h160v-160H620v160Z\"/>\n",
              "  </svg>\n",
              "    </button>\n",
              "\n",
              "  <style>\n",
              "    .colab-df-container {\n",
              "      display:flex;\n",
              "      gap: 12px;\n",
              "    }\n",
              "\n",
              "    .colab-df-convert {\n",
              "      background-color: #E8F0FE;\n",
              "      border: none;\n",
              "      border-radius: 50%;\n",
              "      cursor: pointer;\n",
              "      display: none;\n",
              "      fill: #1967D2;\n",
              "      height: 32px;\n",
              "      padding: 0 0 0 0;\n",
              "      width: 32px;\n",
              "    }\n",
              "\n",
              "    .colab-df-convert:hover {\n",
              "      background-color: #E2EBFA;\n",
              "      box-shadow: 0px 1px 2px rgba(60, 64, 67, 0.3), 0px 1px 3px 1px rgba(60, 64, 67, 0.15);\n",
              "      fill: #174EA6;\n",
              "    }\n",
              "\n",
              "    .colab-df-buttons div {\n",
              "      margin-bottom: 4px;\n",
              "    }\n",
              "\n",
              "    [theme=dark] .colab-df-convert {\n",
              "      background-color: #3B4455;\n",
              "      fill: #D2E3FC;\n",
              "    }\n",
              "\n",
              "    [theme=dark] .colab-df-convert:hover {\n",
              "      background-color: #434B5C;\n",
              "      box-shadow: 0px 1px 3px 1px rgba(0, 0, 0, 0.15);\n",
              "      filter: drop-shadow(0px 1px 2px rgba(0, 0, 0, 0.3));\n",
              "      fill: #FFFFFF;\n",
              "    }\n",
              "  </style>\n",
              "\n",
              "    <script>\n",
              "      const buttonEl =\n",
              "        document.querySelector('#df-aad87fb0-34f0-4cb9-86a7-1055d1910f77 button.colab-df-convert');\n",
              "      buttonEl.style.display =\n",
              "        google.colab.kernel.accessAllowed ? 'block' : 'none';\n",
              "\n",
              "      async function convertToInteractive(key) {\n",
              "        const element = document.querySelector('#df-aad87fb0-34f0-4cb9-86a7-1055d1910f77');\n",
              "        const dataTable =\n",
              "          await google.colab.kernel.invokeFunction('convertToInteractive',\n",
              "                                                    [key], {});\n",
              "        if (!dataTable) return;\n",
              "\n",
              "        const docLinkHtml = 'Like what you see? Visit the ' +\n",
              "          '<a target=\"_blank\" href=https://colab.research.google.com/notebooks/data_table.ipynb>data table notebook</a>'\n",
              "          + ' to learn more about interactive tables.';\n",
              "        element.innerHTML = '';\n",
              "        dataTable['output_type'] = 'display_data';\n",
              "        await google.colab.output.renderOutput(dataTable, element);\n",
              "        const docLink = document.createElement('div');\n",
              "        docLink.innerHTML = docLinkHtml;\n",
              "        element.appendChild(docLink);\n",
              "      }\n",
              "    </script>\n",
              "  </div>\n",
              "\n",
              "\n",
              "<div id=\"df-060cb92e-7df2-4bf0-adc9-b154e711b422\">\n",
              "  <button class=\"colab-df-quickchart\" onclick=\"quickchart('df-060cb92e-7df2-4bf0-adc9-b154e711b422')\"\n",
              "            title=\"Suggest charts\"\n",
              "            style=\"display:none;\">\n",
              "\n",
              "<svg xmlns=\"http://www.w3.org/2000/svg\" height=\"24px\"viewBox=\"0 0 24 24\"\n",
              "     width=\"24px\">\n",
              "    <g>\n",
              "        <path d=\"M19 3H5c-1.1 0-2 .9-2 2v14c0 1.1.9 2 2 2h14c1.1 0 2-.9 2-2V5c0-1.1-.9-2-2-2zM9 17H7v-7h2v7zm4 0h-2V7h2v10zm4 0h-2v-4h2v4z\"/>\n",
              "    </g>\n",
              "</svg>\n",
              "  </button>\n",
              "\n",
              "<style>\n",
              "  .colab-df-quickchart {\n",
              "      --bg-color: #E8F0FE;\n",
              "      --fill-color: #1967D2;\n",
              "      --hover-bg-color: #E2EBFA;\n",
              "      --hover-fill-color: #174EA6;\n",
              "      --disabled-fill-color: #AAA;\n",
              "      --disabled-bg-color: #DDD;\n",
              "  }\n",
              "\n",
              "  [theme=dark] .colab-df-quickchart {\n",
              "      --bg-color: #3B4455;\n",
              "      --fill-color: #D2E3FC;\n",
              "      --hover-bg-color: #434B5C;\n",
              "      --hover-fill-color: #FFFFFF;\n",
              "      --disabled-bg-color: #3B4455;\n",
              "      --disabled-fill-color: #666;\n",
              "  }\n",
              "\n",
              "  .colab-df-quickchart {\n",
              "    background-color: var(--bg-color);\n",
              "    border: none;\n",
              "    border-radius: 50%;\n",
              "    cursor: pointer;\n",
              "    display: none;\n",
              "    fill: var(--fill-color);\n",
              "    height: 32px;\n",
              "    padding: 0;\n",
              "    width: 32px;\n",
              "  }\n",
              "\n",
              "  .colab-df-quickchart:hover {\n",
              "    background-color: var(--hover-bg-color);\n",
              "    box-shadow: 0 1px 2px rgba(60, 64, 67, 0.3), 0 1px 3px 1px rgba(60, 64, 67, 0.15);\n",
              "    fill: var(--button-hover-fill-color);\n",
              "  }\n",
              "\n",
              "  .colab-df-quickchart-complete:disabled,\n",
              "  .colab-df-quickchart-complete:disabled:hover {\n",
              "    background-color: var(--disabled-bg-color);\n",
              "    fill: var(--disabled-fill-color);\n",
              "    box-shadow: none;\n",
              "  }\n",
              "\n",
              "  .colab-df-spinner {\n",
              "    border: 2px solid var(--fill-color);\n",
              "    border-color: transparent;\n",
              "    border-bottom-color: var(--fill-color);\n",
              "    animation:\n",
              "      spin 1s steps(1) infinite;\n",
              "  }\n",
              "\n",
              "  @keyframes spin {\n",
              "    0% {\n",
              "      border-color: transparent;\n",
              "      border-bottom-color: var(--fill-color);\n",
              "      border-left-color: var(--fill-color);\n",
              "    }\n",
              "    20% {\n",
              "      border-color: transparent;\n",
              "      border-left-color: var(--fill-color);\n",
              "      border-top-color: var(--fill-color);\n",
              "    }\n",
              "    30% {\n",
              "      border-color: transparent;\n",
              "      border-left-color: var(--fill-color);\n",
              "      border-top-color: var(--fill-color);\n",
              "      border-right-color: var(--fill-color);\n",
              "    }\n",
              "    40% {\n",
              "      border-color: transparent;\n",
              "      border-right-color: var(--fill-color);\n",
              "      border-top-color: var(--fill-color);\n",
              "    }\n",
              "    60% {\n",
              "      border-color: transparent;\n",
              "      border-right-color: var(--fill-color);\n",
              "    }\n",
              "    80% {\n",
              "      border-color: transparent;\n",
              "      border-right-color: var(--fill-color);\n",
              "      border-bottom-color: var(--fill-color);\n",
              "    }\n",
              "    90% {\n",
              "      border-color: transparent;\n",
              "      border-bottom-color: var(--fill-color);\n",
              "    }\n",
              "  }\n",
              "</style>\n",
              "\n",
              "  <script>\n",
              "    async function quickchart(key) {\n",
              "      const quickchartButtonEl =\n",
              "        document.querySelector('#' + key + ' button');\n",
              "      quickchartButtonEl.disabled = true;  // To prevent multiple clicks.\n",
              "      quickchartButtonEl.classList.add('colab-df-spinner');\n",
              "      try {\n",
              "        const charts = await google.colab.kernel.invokeFunction(\n",
              "            'suggestCharts', [key], {});\n",
              "      } catch (error) {\n",
              "        console.error('Error during call to suggestCharts:', error);\n",
              "      }\n",
              "      quickchartButtonEl.classList.remove('colab-df-spinner');\n",
              "      quickchartButtonEl.classList.add('colab-df-quickchart-complete');\n",
              "    }\n",
              "    (() => {\n",
              "      let quickchartButtonEl =\n",
              "        document.querySelector('#df-060cb92e-7df2-4bf0-adc9-b154e711b422 button');\n",
              "      quickchartButtonEl.style.display =\n",
              "        google.colab.kernel.accessAllowed ? 'block' : 'none';\n",
              "    })();\n",
              "  </script>\n",
              "</div>\n",
              "\n",
              "    </div>\n",
              "  </div>\n"
            ],
            "application/vnd.google.colaboratory.intrinsic+json": {
              "type": "dataframe",
              "variable_name": "data",
              "summary": "{\n  \"name\": \"data\",\n  \"rows\": 17414,\n  \"fields\": [\n    {\n      \"column\": \"timestamp\",\n      \"properties\": {\n        \"dtype\": \"object\",\n        \"num_unique_values\": 17414,\n        \"samples\": [\n          \"2016-08-17 04:00:00\",\n          \"2016-04-08 07:00:00\",\n          \"2015-11-10 00:00:00\"\n        ],\n        \"semantic_type\": \"\",\n        \"description\": \"\"\n      }\n    },\n    {\n      \"column\": \"cnt\",\n      \"properties\": {\n        \"dtype\": \"number\",\n        \"std\": 1085,\n        \"min\": 0,\n        \"max\": 7860,\n        \"num_unique_values\": 3781,\n        \"samples\": [\n          1417,\n          2143,\n          3979\n        ],\n        \"semantic_type\": \"\",\n        \"description\": \"\"\n      }\n    },\n    {\n      \"column\": \"t1\",\n      \"properties\": {\n        \"dtype\": \"number\",\n        \"std\": 5.571817562920554,\n        \"min\": -1.5,\n        \"max\": 34.0,\n        \"num_unique_values\": 73,\n        \"samples\": [\n          1.5,\n          33.5,\n          4.5\n        ],\n        \"semantic_type\": \"\",\n        \"description\": \"\"\n      }\n    },\n    {\n      \"column\": \"t2\",\n      \"properties\": {\n        \"dtype\": \"number\",\n        \"std\": 6.615144673127985,\n        \"min\": -6.0,\n        \"max\": 34.0,\n        \"num_unique_values\": 82,\n        \"samples\": [\n          14.0,\n          2.0,\n          11.5\n        ],\n        \"semantic_type\": \"\",\n        \"description\": \"\"\n      }\n    },\n    {\n      \"column\": \"hum\",\n      \"properties\": {\n        \"dtype\": \"number\",\n        \"std\": 14.313186095311346,\n        \"min\": 20.5,\n        \"max\": 100.0,\n        \"num_unique_values\": 143,\n        \"samples\": [\n          29.5,\n          71.5,\n          40.0\n        ],\n        \"semantic_type\": \"\",\n        \"description\": \"\"\n      }\n    },\n    {\n      \"column\": \"wind_speed\",\n      \"properties\": {\n        \"dtype\": \"number\",\n        \"std\": 7.894570329361007,\n        \"min\": 0.0,\n        \"max\": 56.5,\n        \"num_unique_values\": 103,\n        \"samples\": [\n          30.0,\n          2.0,\n          23.5\n        ],\n        \"semantic_type\": \"\",\n        \"description\": \"\"\n      }\n    },\n    {\n      \"column\": \"weather_code\",\n      \"properties\": {\n        \"dtype\": \"number\",\n        \"std\": 2.3411632846457198,\n        \"min\": 1.0,\n        \"max\": 26.0,\n        \"num_unique_values\": 7,\n        \"samples\": [\n          3.0,\n          1.0,\n          26.0\n        ],\n        \"semantic_type\": \"\",\n        \"description\": \"\"\n      }\n    },\n    {\n      \"column\": \"is_holiday\",\n      \"properties\": {\n        \"dtype\": \"number\",\n        \"std\": 0.1468543671527554,\n        \"min\": 0.0,\n        \"max\": 1.0,\n        \"num_unique_values\": 2,\n        \"samples\": [\n          1.0,\n          0.0\n        ],\n        \"semantic_type\": \"\",\n        \"description\": \"\"\n      }\n    },\n    {\n      \"column\": \"is_weekend\",\n      \"properties\": {\n        \"dtype\": \"number\",\n        \"std\": 0.4516189175710551,\n        \"min\": 0.0,\n        \"max\": 1.0,\n        \"num_unique_values\": 2,\n        \"samples\": [\n          0.0,\n          1.0\n        ],\n        \"semantic_type\": \"\",\n        \"description\": \"\"\n      }\n    },\n    {\n      \"column\": \"season\",\n      \"properties\": {\n        \"dtype\": \"number\",\n        \"std\": 1.118910874827905,\n        \"min\": 0.0,\n        \"max\": 3.0,\n        \"num_unique_values\": 4,\n        \"samples\": [\n          0.0,\n          2.0\n        ],\n        \"semantic_type\": \"\",\n        \"description\": \"\"\n      }\n    }\n  ]\n}"
            }
          },
          "metadata": {},
          "execution_count": 31
        }
      ],
      "source": [
        "# Load the dataset\n",
        "data = pd.read_csv(\"london_merged.csv\")\n",
        "\n",
        "# Display the first few rows\n",
        "data.head()"
      ]
    },
    {
      "cell_type": "markdown",
      "metadata": {
        "id": "WvpNLYKU265x"
      },
      "source": [
        "Explorimg the Data"
      ]
    },
    {
      "cell_type": "code",
      "execution_count": 32,
      "metadata": {
        "colab": {
          "base_uri": "https://localhost:8080/"
        },
        "id": "DZP6d_PkxsCp",
        "outputId": "0663ac75-a819-4774-ec60-77133b3c27b3"
      },
      "outputs": [
        {
          "output_type": "stream",
          "name": "stdout",
          "text": [
            "Missing values:\n",
            " timestamp       0\n",
            "cnt             0\n",
            "t1              0\n",
            "t2              0\n",
            "hum             0\n",
            "wind_speed      0\n",
            "weather_code    0\n",
            "is_holiday      0\n",
            "is_weekend      0\n",
            "season          0\n",
            "dtype: int64\n",
            "Columns in the dataset: Index(['timestamp', 'cnt', 't1', 't2', 'hum', 'wind_speed', 'weather_code',\n",
            "       'is_holiday', 'is_weekend', 'season'],\n",
            "      dtype='object')\n"
          ]
        }
      ],
      "source": [
        "# Check for missing values\n",
        "print(\"Missing values:\\n\", data.isnull().sum())\n",
        "\n",
        "# Summary statistics\n",
        "data.describe()\n",
        "\n",
        "# Check the columns\n",
        "print(\"Columns in the dataset:\", data.columns)"
      ]
    },
    {
      "cell_type": "markdown",
      "metadata": {
        "id": "u3sObdHX3AeB"
      },
      "source": [
        "Preprocessing the Data"
      ]
    },
    {
      "cell_type": "code",
      "execution_count": 33,
      "metadata": {
        "colab": {
          "base_uri": "https://localhost:8080/"
        },
        "id": "wXuCbvdX2mKi",
        "outputId": "ac32e4ad-9b3a-42b3-b8e5-f824e40665da"
      },
      "outputs": [
        {
          "output_type": "stream",
          "name": "stdout",
          "text": [
            "Preprocessing completed successfully!\n",
            "Training set size: (8707, 13)\n",
            "Validation set size: (5224, 13)\n",
            "Test set size: (3483, 13)\n"
          ]
        }
      ],
      "source": [
        "# Convert timestamp to datetime\n",
        "data['timestamp'] = pd.to_datetime(data['timestamp'])\n",
        "\n",
        "# Derive time_of_day from timestamp\n",
        "def get_time_of_day(hour):\n",
        "    if 6 <= hour < 12:\n",
        "        return \"Morning\"\n",
        "    elif 12 <= hour < 18:\n",
        "        return \"Afternoon\"\n",
        "    elif 18 <= hour < 24:\n",
        "        return \"Late Evening\"\n",
        "    else:\n",
        "        return \"Night\"\n",
        "\n",
        "data['hour'] = data['timestamp'].dt.hour\n",
        "data['time_of_day'] = data['hour'].apply(get_time_of_day)\n",
        "\n",
        "# Normalize weather_code\n",
        "weather_mapping = {1: 1, 2: 2, 3: 3, 4: 4, 7: 5, 10: 6, 26: 7, 94: 8}\n",
        "data['weather_code'] = data['weather_code'].map(weather_mapping)\n",
        "\n",
        "# One-hot encode categorical columns\n",
        "categorical_cols = ['season', 'time_of_day']\n",
        "data = pd.get_dummies(data, columns=categorical_cols, drop_first=True)\n",
        "\n",
        "# Normalize numerical features\n",
        "scaler = MinMaxScaler()\n",
        "numerical_cols = ['t1', 't2', 'hum', 'wind_speed']\n",
        "data[numerical_cols] = scaler.fit_transform(data[numerical_cols])\n",
        "\n",
        "# Drop unnecessary columns\n",
        "data.drop(['timestamp', 'hour'], axis=1, inplace=True)\n",
        "\n",
        "# Separate features and target variable\n",
        "X = data.drop('cnt', axis=1)  # Features\n",
        "y = data['cnt']  # Target variable\n",
        "\n",
        "\n",
        "\n",
        "# Split the dataset into train (50%), validation (30%), and test (20%)\n",
        "X_train, X_temp, y_train, y_temp = train_test_split(X, y, test_size=0.5, random_state=42)\n",
        "X_val, X_test, y_val, y_test = train_test_split(X_temp, y_temp, test_size=0.4, random_state=42)\n",
        "\n",
        "\n",
        "# Confirm preprocessing and data split sizes\n",
        "print(\"Preprocessing completed successfully!\")\n",
        "print(\"Training set size:\", X_train.shape)\n",
        "print(\"Validation set size:\", X_val.shape)\n",
        "print(\"Test set size:\", X_test.shape)"
      ]
    },
    {
      "cell_type": "markdown",
      "metadata": {
        "id": "FC5MNa_y4yjA"
      },
      "source": [
        "Profit Function Defining"
      ]
    },
    {
      "cell_type": "code",
      "execution_count": 34,
      "metadata": {
        "id": "BNhRKW5A_zfH"
      },
      "outputs": [],
      "source": [
        "# Constants for profit calculation\n",
        "PURCHASE_PRICE = 590\n",
        "RENTAL_PRICE = 25\n",
        "HOLDING_COST_PERCENT = 0.2\n",
        "HOLDING_COST_PER_BIKE = PURCHASE_PRICE * HOLDING_COST_PERCENT\n",
        "\n",
        "# Function to calculate profit\n",
        "def calculate_profit(actual_demand, predicted_demand):\n",
        "    daily_holding_cost_per_bike = HOLDING_COST_PER_BIKE / 365\n",
        "    total_profit = 0\n",
        "\n",
        "    for actual, predicted in zip(actual_demand, predicted_demand):\n",
        "        rental_income = RENTAL_PRICE * min(actual, predicted)\n",
        "        overstock_cost = daily_holding_cost_per_bike * max(0, predicted - actual)\n",
        "        understock_cost = RENTAL_PRICE * max(0, actual - predicted)\n",
        "        total_profit += rental_income - overstock_cost - understock_cost\n",
        "\n",
        "    return total_profit\n"
      ]
    },
    {
      "cell_type": "markdown",
      "metadata": {
        "id": "nzGHy3c0_9iK"
      },
      "source": [
        "Trainning the models"
      ]
    },
    {
      "cell_type": "markdown",
      "metadata": {
        "id": "5SUYoOWj45YD"
      },
      "source": [
        "Model 1: Linear Regression"
      ]
    },
    {
      "cell_type": "code",
      "execution_count": 35,
      "metadata": {
        "colab": {
          "base_uri": "https://localhost:8080/"
        },
        "id": "_t5uYgrR40gA",
        "outputId": "3cffec87-bf29-4806-ca7b-7b55a32b5d05"
      },
      "outputs": [
        {
          "output_type": "stream",
          "name": "stdout",
          "text": [
            "Linear Regression - Validation RMSE: 827.1393079536939\n",
            "Linear Regression - Validation Profit: 68750384.81605335\n"
          ]
        }
      ],
      "source": [
        "# Linear Regression\n",
        "lr = LinearRegression()\n",
        "lr.fit(X_train, y_train)\n",
        "\n",
        "# Evaluate on validation set\n",
        "val_preds_lr = lr.predict(X_val)\n",
        "val_rmse_lr = np.sqrt(mean_squared_error(y_val, val_preds_lr))\n",
        "val_profit_lr = calculate_profit(y_val, val_preds_lr)\n",
        "\n",
        "print(\"Linear Regression - Validation RMSE:\", val_rmse_lr)\n",
        "print(\"Linear Regression - Validation Profit:\", val_profit_lr)\n"
      ]
    },
    {
      "cell_type": "markdown",
      "metadata": {
        "id": "loBe4ZNu44iW"
      },
      "source": [
        "Model 2: Decision Tree (Optimized for RMSE)\n",
        "Here I used first range from 2 to 20, then 2 to 30, saw that it converged and became flat"
      ]
    },
    {
      "cell_type": "code",
      "execution_count": 44,
      "metadata": {
        "colab": {
          "base_uri": "https://localhost:8080/",
          "height": 509
        },
        "id": "tIB1pk_TA_zO",
        "outputId": "a2eef3dd-575a-4b64-94d5-45f10265e100"
      },
      "outputs": [
        {
          "output_type": "display_data",
          "data": {
            "text/plain": [
              "<Figure size 640x480 with 1 Axes>"
            ],
            "image/png": "[encoded data removed]"
          },
          "metadata": {}
        },
        {
          "output_type": "stream",
          "name": "stdout",
          "text": [
            "Best RMSE for Decision Tree: 774.7317958573749 with 23 nodes.\n",
            "Profit for Decision Tree optimized for RMSE: 78602068.14580317 with 23 nodes.\n"
          ]
        }
      ],
      "source": [
        "# Decision Tree with RMSE optimization\n",
        "best_rmse_dt, best_nodes_rmse = float('inf'), 0\n",
        "rmse_values = []\n",
        "nodes_range = range(2, 30)\n",
        "\n",
        "for nodes in nodes_range:\n",
        "    dt = DecisionTreeRegressor(max_leaf_nodes=nodes, random_state=42)\n",
        "    dt.fit(X_train, y_train)\n",
        "    val_preds = dt.predict(X_val)\n",
        "    rmse = np.sqrt(mean_squared_error(y_val, val_preds))\n",
        "    rmse_values.append(rmse)\n",
        "\n",
        "    if rmse < best_rmse_dt:\n",
        "        best_rmse_dt = rmse\n",
        "        best_nodes_rmse = nodes\n",
        "\n",
        "#Calculate profit here\n",
        "val_preds_mod=dt.predict(X_val)\n",
        "best_nodes_profit1 = calculate_profit(y_val, val_preds_mod)\n",
        "\n",
        "# Plot RMSE vs. Nodes\n",
        "plt.plot(nodes_range, rmse_values, marker='o')\n",
        "plt.title(\"Decision Tree: RMSE vs. Number of Nodes\")\n",
        "plt.xlabel(\"Number of Nodes\")\n",
        "plt.ylabel(\"Validation RMSE\")\n",
        "plt.show()\n",
        "\n",
        "print(\"Best RMSE for Decision Tree:\", best_rmse_dt, \"with\", best_nodes_rmse, \"nodes.\")\n",
        "print(\"Profit for Decision Tree optimized for RMSE:\", best_nodes_profit1, \"with\", best_nodes_rmse, \"nodes.\")\n"
      ]
    },
    {
      "cell_type": "markdown",
      "metadata": {
        "id": "x8YV6v_aBmaZ"
      },
      "source": [
        "Model 3: Decision Tree (Optimized for Profit)"
      ]
    },
    {
      "cell_type": "code",
      "execution_count": 45,
      "metadata": {
        "colab": {
          "base_uri": "https://localhost:8080/",
          "height": 509
        },
        "id": "bjbePn7vBnze",
        "outputId": "f8a28448-6353-40e8-d619-5a04ac403de6"
      },
      "outputs": [
        {
          "output_type": "display_data",
          "data": {
            "text/plain": [
              "<Figure size 640x480 with 1 Axes>"
            ],
            "image/png": "[encoded data removed]"
          },
          "metadata": {}
        },
        {
          "output_type": "stream",
          "name": "stdout",
          "text": [
            "Best Profit for Decision Tree: 78799111.62440906 with 25 nodes.\n",
            "RMSE for Decision Tree optimized for Profit: 776.4118975838591 with 25 nodes.\n"
          ]
        }
      ],
      "source": [
        "# Decision Tree with Profit optimization\n",
        "best_profit_dt, best_nodes_profit = float('-inf'), 0\n",
        "profit_values = []\n",
        "\n",
        "for nodes in nodes_range:\n",
        "    dt = DecisionTreeRegressor(max_leaf_nodes=nodes, random_state=42)\n",
        "    dt.fit(X_train, y_train)\n",
        "    val_preds = dt.predict(X_val)\n",
        "    profit = calculate_profit(y_val, val_preds)\n",
        "    profit_values.append(profit)\n",
        "    if profit > best_profit_dt:\n",
        "        best_profit_dt = profit\n",
        "        best_nodes_profit = nodes\n",
        "\n",
        "#Calculate RMSE here\n",
        "val_preds_mod=dt.predict(X_val)\n",
        "best_nodes_RMSE1 = np.sqrt(mean_squared_error(y_val, val_preds_mod))\n",
        "# Plot Profit vs. Nodes\n",
        "plt.plot(nodes_range, profit_values, marker='o', color='green')\n",
        "plt.title(\"Decision Tree: Profit vs. Number of Nodes\")\n",
        "plt.xlabel(\"Number of Nodes\")\n",
        "plt.ylabel(\"Validation Profit\")\n",
        "plt.show()\n",
        "\n",
        "print(\"Best Profit for Decision Tree:\", best_profit_dt, \"with\", best_nodes_profit, \"nodes.\")\n",
        "print(\"RMSE for Decision Tree optimized for Profit:\", best_nodes_RMSE1, \"with\", best_nodes_profit, \"nodes.\")"
      ]
    },
    {
      "cell_type": "markdown",
      "metadata": {
        "id": "olAyxHWEEX-r"
      },
      "source": [
        "Model 4: Neural Network (Optimized for RMSE)"
      ]
    },
    {
      "cell_type": "code",
      "execution_count": 46,
      "metadata": {
        "colab": {
          "base_uri": "https://localhost:8080/",
          "height": 639
        },
        "id": "06t1hIgREelK",
        "outputId": "7761c738-7e88-4ee0-98f6-fd7bbc3dc98a"
      },
      "outputs": [
        {
          "output_type": "stream",
          "name": "stderr",
          "text": [
            "/usr/local/lib/python3.11/dist-packages/sklearn/neural_network/_multilayer_perceptron.py:691: ConvergenceWarning: Stochastic Optimizer: Maximum iterations (500) reached and the optimization hasn't converged yet.\n",
            "  warnings.warn(\n",
            "/usr/local/lib/python3.11/dist-packages/sklearn/neural_network/_multilayer_perceptron.py:691: ConvergenceWarning: Stochastic Optimizer: Maximum iterations (500) reached and the optimization hasn't converged yet.\n",
            "  warnings.warn(\n",
            "/usr/local/lib/python3.11/dist-packages/sklearn/neural_network/_multilayer_perceptron.py:691: ConvergenceWarning: Stochastic Optimizer: Maximum iterations (500) reached and the optimization hasn't converged yet.\n",
            "  warnings.warn(\n"
          ]
        },
        {
          "output_type": "display_data",
          "data": {
            "text/plain": [
              "<Figure size 640x480 with 1 Axes>"
            ],
            "image/png": "[encoded data removed]"
          },
          "metadata": {}
        },
        {
          "output_type": "stream",
          "name": "stdout",
          "text": [
            "Best RMSE for Neural Network: 727.7111215576172 with layers: (128, 64)\n",
            "Profit for NN optimized for RMSE: 78602068.14580317 with (128, 64) layers.\n"
          ]
        }
      ],
      "source": [
        "# Neural Network with RMSE optimization\n",
        "best_rmse_nn, best_layers_rmse = float('inf'), None\n",
        "rmse_values_nn = []\n",
        "layer_configs = [(64,), (64, 32), (128, 64)]\n",
        "\n",
        "for layers in layer_configs:\n",
        "    nn = MLPRegressor(hidden_layer_sizes=layers, max_iter=500, random_state=42)\n",
        "    nn.fit(X_train, y_train)\n",
        "    val_preds = nn.predict(X_val)\n",
        "    rmse = np.sqrt(mean_squared_error(y_val, val_preds))\n",
        "    rmse_values_nn.append(rmse)\n",
        "    if rmse < best_rmse_nn:\n",
        "        best_rmse_nn = rmse\n",
        "        best_layers_rmse = layers\n",
        "\n",
        "\n",
        "#Calculate profit here\n",
        "val_preds_mod=dt.predict(X_val)\n",
        "best_nodes_profit2 = calculate_profit(y_val, val_preds_mod)\n",
        "\n",
        "# Plot RMSE vs. Layers\n",
        "plt.bar(range(len(layer_configs)), rmse_values_nn, tick_label=[str(l) for l in layer_configs])\n",
        "plt.title(\"Neural Network: RMSE vs. Layer Configurations\")\n",
        "plt.xlabel(\"Layer Configuration\")\n",
        "plt.ylabel(\"Validation RMSE\")\n",
        "plt.show()\n",
        "\n",
        "print(\"Best RMSE for Neural Network:\", best_rmse_nn, \"with layers:\", best_layers_rmse)\n",
        "print(\"Profit for NN optimized for RMSE:\", best_nodes_profit2, \"with\", best_layers_rmse, \"layers.\")"
      ]
    },
    {
      "cell_type": "markdown",
      "metadata": {
        "id": "xD65DwI_IXic"
      },
      "source": [
        "Model 5: Neural Network (Optimized for Profit)"
      ]
    },
    {
      "cell_type": "code",
      "execution_count": 47,
      "metadata": {
        "colab": {
          "base_uri": "https://localhost:8080/",
          "height": 639
        },
        "id": "OugrwUQMIaSW",
        "outputId": "6190671b-293c-4f70-9f76-e85419097637"
      },
      "outputs": [
        {
          "output_type": "stream",
          "name": "stderr",
          "text": [
            "/usr/local/lib/python3.11/dist-packages/sklearn/neural_network/_multilayer_perceptron.py:691: ConvergenceWarning: Stochastic Optimizer: Maximum iterations (500) reached and the optimization hasn't converged yet.\n",
            "  warnings.warn(\n",
            "/usr/local/lib/python3.11/dist-packages/sklearn/neural_network/_multilayer_perceptron.py:691: ConvergenceWarning: Stochastic Optimizer: Maximum iterations (500) reached and the optimization hasn't converged yet.\n",
            "  warnings.warn(\n",
            "/usr/local/lib/python3.11/dist-packages/sklearn/neural_network/_multilayer_perceptron.py:691: ConvergenceWarning: Stochastic Optimizer: Maximum iterations (500) reached and the optimization hasn't converged yet.\n",
            "  warnings.warn(\n"
          ]
        },
        {
          "output_type": "display_data",
          "data": {
            "text/plain": [
              "<Figure size 640x480 with 1 Axes>"
            ],
            "image/png": "[encoded data removed]"
          },
          "metadata": {}
        },
        {
          "output_type": "stream",
          "name": "stdout",
          "text": [
            "Best Profit for Neural Network: 85972722.30168547 with layers: (64, 32)\n",
            "RMSE for NN optimized for Profit: 776.4118975838591 with (64, 32) nodes.\n"
          ]
        }
      ],
      "source": [
        "# Neural Network with Profit optimization\n",
        "best_profit_nn, best_layers_profit = float('-inf'), None\n",
        "profit_values_nn = []\n",
        "\n",
        "for layers in layer_configs:\n",
        "    nn = MLPRegressor(hidden_layer_sizes=layers, max_iter=500, random_state=42)\n",
        "    nn.fit(X_train, y_train)\n",
        "    val_preds = nn.predict(X_val)\n",
        "    profit = calculate_profit(y_val, val_preds)\n",
        "    profit_values_nn.append(profit)\n",
        "    if profit > best_profit_nn:\n",
        "        best_profit_nn = profit\n",
        "        best_layers_profit = layers\n",
        "\n",
        "#Calculate RMSE here\n",
        "val_preds_mod=dt.predict(X_val)\n",
        "best_nodes_RMSE2 = np.sqrt(mean_squared_error(y_val, val_preds_mod))\n",
        "\n",
        "# Plot Profit vs. Layers\n",
        "plt.bar(range(len(layer_configs)), profit_values_nn, tick_label=[str(l) for l in layer_configs], color='green')\n",
        "plt.title(\"Neural Network: Profit vs. Layer Configurations\")\n",
        "plt.xlabel(\"Layer Configuration\")\n",
        "plt.ylabel(\"Validation Profit\")\n",
        "plt.show()\n",
        "\n",
        "print(\"Best Profit for Neural Network:\", best_profit_nn, \"with layers:\", best_layers_profit)\n",
        "print(\"RMSE for NN optimized for Profit:\", best_nodes_RMSE2, \"with\", best_layers_profit, \"nodes.\")"
      ]
    },
    {
      "cell_type": "markdown",
      "source": [
        "Evaluate on Test Set and Save Results"
      ],
      "metadata": {
        "id": "OsrMjPAPNWHA"
      }
    },
    {
      "cell_type": "code",
      "source": [
        "# Define models with the best hyperparameters\n",
        "models = [\n",
        "    (\"Linear Regression\", LinearRegression()),\n",
        "    (\"Decision Tree (RMSE)\", DecisionTreeRegressor(max_leaf_nodes=best_nodes_rmse, random_state=42)),\n",
        "    (\"Decision Tree (Profit)\", DecisionTreeRegressor(max_leaf_nodes=best_nodes_profit, random_state=42)),\n",
        "    (\"Neural Network (RMSE)\", MLPRegressor(hidden_layer_sizes=best_layers_rmse, max_iter=500, random_state=42)),\n",
        "    (\"Neural Network (Profit)\", MLPRegressor(hidden_layer_sizes=best_layers_profit, max_iter=500, random_state=42))\n",
        "]\n",
        "\n",
        "# List to store results\n",
        "results = []\n",
        "\n",
        "# Evaluate each model\n",
        "for name, model in models:\n",
        "    print(f\"Evaluating model: {name}\")\n",
        "\n",
        "    # Train the model on the training set\n",
        "    model.fit(X_train, y_train)\n",
        "\n",
        "    # Predict on the test set\n",
        "    test_preds = model.predict(X_test)\n",
        "\n",
        "    # Calculate RMSE\n",
        "    test_rmse = np.sqrt(mean_squared_error(y_test, test_preds))\n",
        "\n",
        "    # Calculate profit\n",
        "    test_profit = calculate_profit(y_test, test_preds)\n",
        "\n",
        "    # Store results\n",
        "    results.append([name, test_rmse, test_profit])\n",
        "\n",
        "# Save results to a DataFrame and CSV\n",
        "results_df = pd.DataFrame(results, columns=[\"Model\", \"Test RMSE\", \"Test Profit\"])\n",
        "results_df.to_csv(\"model_results.csv\", index=False)\n",
        "print(\"Results saved successfully!\")\n",
        "\n",
        "# Display results\n",
        "print(results_df)\n"
      ],
      "metadata": {
        "colab": {
          "base_uri": "https://localhost:8080/"
        },
        "id": "F9SF-xYfNZjg",
        "outputId": "866ccc13-7ca0-41ac-a695-78b159a156db"
      },
      "execution_count": 48,
      "outputs": [
        {
          "output_type": "stream",
          "name": "stdout",
          "text": [
            "Evaluating model: Linear Regression\n",
            "Evaluating model: Decision Tree (RMSE)\n",
            "Evaluating model: Decision Tree (Profit)\n",
            "Evaluating model: Neural Network (RMSE)\n"
          ]
        },
        {
          "output_type": "stream",
          "name": "stderr",
          "text": [
            "/usr/local/lib/python3.11/dist-packages/sklearn/neural_network/_multilayer_perceptron.py:691: ConvergenceWarning: Stochastic Optimizer: Maximum iterations (500) reached and the optimization hasn't converged yet.\n",
            "  warnings.warn(\n"
          ]
        },
        {
          "output_type": "stream",
          "name": "stdout",
          "text": [
            "Evaluating model: Neural Network (Profit)\n",
            "Results saved successfully!\n",
            "                     Model   Test RMSE   Test Profit\n",
            "0        Linear Regression  813.845404  4.660065e+07\n",
            "1     Decision Tree (RMSE)  769.177009  5.167055e+07\n",
            "2   Decision Tree (Profit)  771.863866  5.164137e+07\n",
            "3    Neural Network (RMSE)  722.940378  5.594918e+07\n",
            "4  Neural Network (Profit)  722.727390  5.676076e+07\n"
          ]
        },
        {
          "output_type": "stream",
          "name": "stderr",
          "text": [
            "/usr/local/lib/python3.11/dist-packages/sklearn/neural_network/_multilayer_perceptron.py:691: ConvergenceWarning: Stochastic Optimizer: Maximum iterations (500) reached and the optimization hasn't converged yet.\n",
            "  warnings.warn(\n"
          ]
        }
      ]
    }
  ],
  "metadata": {
    "colab": {
      "provenance": []
    },
    "kernelspec": {
      "display_name": "Python 3",
      "name": "python3"
    },
    "language_info": {
      "name": "python"
    }
  },
  "nbformat": 4,
  "nbformat_minor": 0
}